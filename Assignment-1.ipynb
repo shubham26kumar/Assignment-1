{
 "cells": [
  {
   "cell_type": "markdown",
   "id": "c30876cc-f876-4d10-9391-769da2d33ba2",
   "metadata": {},
   "source": [
    "1.who developed python programming language?\n",
    "Ans:-python is developed by Guido van Rossum.\n",
    "2.which type of programming does python support?\n",
    "Ans:-python supports object-oriented,structured and functional programming.\n",
    "3.is python case sensitive while dealing with identifiers?\n",
    "Ans:-yes case is always significant while dealing with identifiers in python.\n",
    "4.what is the correct extension of python file?\n",
    "Ans:-correct extension of python file is '.py'.\n",
    "5.is python code compiled or interpreted?\n",
    "Ans:-python code is interpreted.\n",
    "6.Name a few blocks of code used to define in python language?\n",
    "Ans:-In python blocks of code is defined as a module,a function body and a class definition.In python a block of code is implemented using identation.\n",
    "7.State a character used to give single-line comments in python?\n",
    "Ans:-To write single-line comments in python we use the hash(#) character.\n",
    "8.Mention functions which can help us to find the version of python that we are currently working on?\n",
    "Ans:-The function sys.version can help us to find the version of python that we are currently working on.\n",
    "9.Python suuports the creation of anonymous function at runtime using a construct called ________\n",
    "Ans:-Python supports the creation of anonymous function at runtime,using a construct called lambda.\n",
    "10.What does pip stand for python?\n",
    "Ans:-pip is a package manager for python.which is also called Preferred Installer Program.\n",
    "11.Mention a few built-in functions in python?\n",
    "Ans:-Few built-in functions in python are print(),input(),int(),float(),bool(),len(),list(),max(),min() etc.\n",
    "12.What is the maximum possible length of an identifier in python?\n",
    "Ans:-identifiers can have a maximum length of 79 characters.\n",
    "13.What are the benefits of using python?\n",
    "Ans:-Python as one of the most popular programming languages have many benefits like data science,web development,scientific and mathematical computing,computer graphics,game development etc.\n",
    "14.How is memory managed in python?\n",
    "Ans:-Memory management in python involves a private heap containing all python objects and data structures.the management of this private heap is ensured by python memory manager.The python memory manager has diferent components which deals with various dynamic storage management aspects,like sharing,segmentation,preallocation and caching.\n",
    "15.How to install python on windows and set path variables?\n",
    "Ans:-Fist install latest version of python from python.org and then checking the box to add python to path at the bottom of the setup screen after this finish the installation or we can manually set the paths into the environment variables.in the system variables section,select the path variable and click on edit.Then click on new and enter python's install directory.\n",
    "16.is identation required in python?\n",
    "Ans:-Yes,identation in python is very important.python uses identatio"
   ]
  }
 ],
 "metadata": {
  "kernelspec": {
   "display_name": "Python 3 (ipykernel)",
   "language": "python",
   "name": "python3"
  },
  "language_info": {
   "codemirror_mode": {
    "name": "ipython",
    "version": 3
   },
   "file_extension": ".py",
   "mimetype": "text/x-python",
   "name": "python",
   "nbconvert_exporter": "python",
   "pygments_lexer": "ipython3",
   "version": "3.10.8"
  }
 },
 "nbformat": 4,
 "nbformat_minor": 5
}
